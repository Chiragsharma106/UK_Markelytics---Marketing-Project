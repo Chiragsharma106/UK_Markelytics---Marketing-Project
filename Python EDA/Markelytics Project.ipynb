{
 "cells": [
  {
   "cell_type": "code",
   "execution_count": 1,
   "id": "b0480ce7-8861-4ac9-a30d-be93f888bb2f",
   "metadata": {},
   "outputs": [],
   "source": [
    "import pandas as pd\n",
    "import numpy as np\n",
    "import seaborn as sea\n",
    "import matplotlib.pyplot as mtn\n",
    "import os\n",
    "mycolor = '#3d766d'"
   ]
  },
  {
   "cell_type": "code",
   "execution_count": 2,
   "id": "296daa29-f259-4216-8d74-4502c2225b1e",
   "metadata": {},
   "outputs": [],
   "source": [
    "folder = r\"C:\\Users\\chira\\Documents\\All Files\\PortFolio Dashboards💸\\#2 MarketingDashboard\\Data\""
   ]
  },
  {
   "cell_type": "code",
   "execution_count": 3,
   "id": "29c17303-c978-4ebd-a395-fe4f6c62575a",
   "metadata": {},
   "outputs": [],
   "source": [
    "tables = {}"
   ]
  },
  {
   "cell_type": "code",
   "execution_count": 4,
   "id": "d9de0789-9fc2-4f94-868b-7cedafe234a2",
   "metadata": {},
   "outputs": [
    {
     "name": "stdout",
     "output_type": "stream",
     "text": [
      "campaign\n",
      "customer\n",
      "products\n",
      "conversions\n",
      "performance\n"
     ]
    }
   ],
   "source": [
    "for files in os.listdir(folder):\n",
    "    names = files.replace('.csv', '').replace('Dim', ''). replace(\"_\", \"\").replace(\"Fact\", \"\").lower().replace(\"marketing\", \"\")\n",
    "    tables[names] = pd.read_csv(os.path.join(folder, files))\n",
    "    print(names)"
   ]
  },
  {
   "cell_type": "code",
   "execution_count": 5,
   "id": "1cfc2482-23cb-40e3-a2f3-ceccbac8ddc9",
   "metadata": {},
   "outputs": [],
   "source": [
    "customers = tables[\"customer\"]\n",
    "campaigns = tables[\"campaign\"]\n",
    "products = tables[\"products\"]\n",
    "conversions = tables[\"conversions\"]\n",
    "performance = tables[\"performance\"]"
   ]
  },
  {
   "cell_type": "markdown",
   "id": "23b092b8-50c1-466b-8d55-23e8795440c9",
   "metadata": {},
   "source": [
    "# Fact Tables Analysis"
   ]
  },
  {
   "cell_type": "markdown",
   "id": "6820e242-963b-4a27-8633-3b617c925626",
   "metadata": {},
   "source": [
    "### Conversions Table"
   ]
  },
  {
   "cell_type": "code",
   "execution_count": 6,
   "id": "531ff796-13d5-4ef8-b1fe-7d1dacce1728",
   "metadata": {},
   "outputs": [
    {
     "data": {
      "text/plain": [
       "ConversionId       0\n",
       "CustomerID         0\n",
       "ProductID          0\n",
       "CompaignID         0\n",
       "ConversionType     0\n",
       "Conversion_Date    0\n",
       "Revenue            0\n",
       "dtype: int64"
      ]
     },
     "execution_count": 6,
     "metadata": {},
     "output_type": "execute_result"
    }
   ],
   "source": [
    "# --- Null Values\n",
    "pd.isnull(conversions).sum()"
   ]
  },
  {
   "cell_type": "code",
   "execution_count": 7,
   "id": "1073ac27-b5c5-41f0-81a4-8f001abee85d",
   "metadata": {},
   "outputs": [
    {
     "name": "stdout",
     "output_type": "stream",
     "text": [
      "<class 'pandas.core.frame.DataFrame'>\n",
      "RangeIndex: 150 entries, 0 to 149\n",
      "Data columns (total 7 columns):\n",
      " #   Column           Non-Null Count  Dtype \n",
      "---  ------           --------------  ----- \n",
      " 0   ConversionId     150 non-null    object\n",
      " 1   CustomerID       150 non-null    int64 \n",
      " 2   ProductID        150 non-null    object\n",
      " 3   CompaignID       150 non-null    int64 \n",
      " 4   ConversionType   150 non-null    object\n",
      " 5   Conversion_Date  150 non-null    object\n",
      " 6   Revenue          150 non-null    int64 \n",
      "dtypes: int64(3), object(4)\n",
      "memory usage: 8.3+ KB\n"
     ]
    }
   ],
   "source": [
    "# --- Description\n",
    "conversions.info()"
   ]
  },
  {
   "cell_type": "code",
   "execution_count": 8,
   "id": "4158a215-c199-47a9-9ac7-c81aaa1ca09b",
   "metadata": {},
   "outputs": [],
   "source": [
    "# --- Converting Date into Date format\n",
    "conversions.rename(columns = {'Conversion_Date' : 'Date'}, inplace = True)\n",
    "\n",
    "conversions['Date'] = pd.to_datetime(conversions['Date'], format = 'mixed')"
   ]
  },
  {
   "cell_type": "code",
   "execution_count": 9,
   "id": "fadf9cd8-78ae-40f3-9de3-3ff0eb3f864a",
   "metadata": {},
   "outputs": [
    {
     "data": {
      "text/html": [
       "<div>\n",
       "<style scoped>\n",
       "    .dataframe tbody tr th:only-of-type {\n",
       "        vertical-align: middle;\n",
       "    }\n",
       "\n",
       "    .dataframe tbody tr th {\n",
       "        vertical-align: top;\n",
       "    }\n",
       "\n",
       "    .dataframe thead th {\n",
       "        text-align: right;\n",
       "    }\n",
       "</style>\n",
       "<table border=\"1\" class=\"dataframe\">\n",
       "  <thead>\n",
       "    <tr style=\"text-align: right;\">\n",
       "      <th></th>\n",
       "      <th>CustomerID</th>\n",
       "      <th>CompaignID</th>\n",
       "      <th>Date</th>\n",
       "      <th>Revenue</th>\n",
       "    </tr>\n",
       "  </thead>\n",
       "  <tbody>\n",
       "    <tr>\n",
       "      <th>count</th>\n",
       "      <td>150.000000</td>\n",
       "      <td>150.000000</td>\n",
       "      <td>150</td>\n",
       "      <td>150.000000</td>\n",
       "    </tr>\n",
       "    <tr>\n",
       "      <th>mean</th>\n",
       "      <td>79.973333</td>\n",
       "      <td>6.213333</td>\n",
       "      <td>2023-09-20 03:50:24</td>\n",
       "      <td>5007.746667</td>\n",
       "    </tr>\n",
       "    <tr>\n",
       "      <th>min</th>\n",
       "      <td>1.000000</td>\n",
       "      <td>1.000000</td>\n",
       "      <td>2022-01-09 00:00:00</td>\n",
       "      <td>48.000000</td>\n",
       "    </tr>\n",
       "    <tr>\n",
       "      <th>25%</th>\n",
       "      <td>42.000000</td>\n",
       "      <td>4.000000</td>\n",
       "      <td>2022-12-27 00:00:00</td>\n",
       "      <td>1160.750000</td>\n",
       "    </tr>\n",
       "    <tr>\n",
       "      <th>50%</th>\n",
       "      <td>82.500000</td>\n",
       "      <td>7.000000</td>\n",
       "      <td>2023-11-01 00:00:00</td>\n",
       "      <td>3300.500000</td>\n",
       "    </tr>\n",
       "    <tr>\n",
       "      <th>75%</th>\n",
       "      <td>120.000000</td>\n",
       "      <td>9.000000</td>\n",
       "      <td>2024-06-13 12:00:00</td>\n",
       "      <td>6811.750000</td>\n",
       "    </tr>\n",
       "    <tr>\n",
       "      <th>max</th>\n",
       "      <td>149.000000</td>\n",
       "      <td>10.000000</td>\n",
       "      <td>2025-05-17 00:00:00</td>\n",
       "      <td>21332.000000</td>\n",
       "    </tr>\n",
       "    <tr>\n",
       "      <th>std</th>\n",
       "      <td>44.210440</td>\n",
       "      <td>2.883852</td>\n",
       "      <td>NaN</td>\n",
       "      <td>5067.759255</td>\n",
       "    </tr>\n",
       "  </tbody>\n",
       "</table>\n",
       "</div>"
      ],
      "text/plain": [
       "       CustomerID  CompaignID                 Date       Revenue\n",
       "count  150.000000  150.000000                  150    150.000000\n",
       "mean    79.973333    6.213333  2023-09-20 03:50:24   5007.746667\n",
       "min      1.000000    1.000000  2022-01-09 00:00:00     48.000000\n",
       "25%     42.000000    4.000000  2022-12-27 00:00:00   1160.750000\n",
       "50%     82.500000    7.000000  2023-11-01 00:00:00   3300.500000\n",
       "75%    120.000000    9.000000  2024-06-13 12:00:00   6811.750000\n",
       "max    149.000000   10.000000  2025-05-17 00:00:00  21332.000000\n",
       "std     44.210440    2.883852                  NaN   5067.759255"
      ]
     },
     "execution_count": 9,
     "metadata": {},
     "output_type": "execute_result"
    }
   ],
   "source": [
    "# --- Description\n",
    "conversions.describe()"
   ]
  },
  {
   "cell_type": "markdown",
   "id": "abde8281-f509-4fdc-a77b-bfa5038174a2",
   "metadata": {},
   "source": [
    "### Performance Table"
   ]
  },
  {
   "cell_type": "code",
   "execution_count": 10,
   "id": "0e549be2-ea5c-46e0-bfe4-1aeede3b695a",
   "metadata": {},
   "outputs": [
    {
     "data": {
      "text/plain": [
       "Date                 0\n",
       "Campaign_ID          0\n",
       "ProductID            0\n",
       "Customer_ID          0\n",
       "Status               0\n",
       "Estimated Revenue    0\n",
       "Ad_spend             0\n",
       "dtype: int64"
      ]
     },
     "execution_count": 10,
     "metadata": {},
     "output_type": "execute_result"
    }
   ],
   "source": [
    "# --- Null Values\n",
    "pd.isnull(performance).sum()"
   ]
  },
  {
   "cell_type": "code",
   "execution_count": 11,
   "id": "283c6283-82b4-4619-bd14-066bfe0afef0",
   "metadata": {},
   "outputs": [
    {
     "name": "stdout",
     "output_type": "stream",
     "text": [
      "<class 'pandas.core.frame.DataFrame'>\n",
      "RangeIndex: 100000 entries, 0 to 99999\n",
      "Data columns (total 7 columns):\n",
      " #   Column             Non-Null Count   Dtype  \n",
      "---  ------             --------------   -----  \n",
      " 0   Date               100000 non-null  object \n",
      " 1   Campaign_ID        100000 non-null  int64  \n",
      " 2   ProductID          100000 non-null  object \n",
      " 3   Customer_ID        100000 non-null  int64  \n",
      " 4   Status             100000 non-null  object \n",
      " 5   Estimated Revenue  100000 non-null  int64  \n",
      " 6   Ad_spend           100000 non-null  float64\n",
      "dtypes: float64(1), int64(3), object(3)\n",
      "memory usage: 5.3+ MB\n"
     ]
    }
   ],
   "source": [
    "# --- Description\n",
    "performance.info()"
   ]
  },
  {
   "cell_type": "code",
   "execution_count": 12,
   "id": "91e1ad37-eeb1-4202-a183-55a630eb84ac",
   "metadata": {},
   "outputs": [],
   "source": [
    "# --- Converting Date into Date format\n",
    "\n",
    "performance['Date'] = pd.to_datetime(performance['Date'], format = 'mixed')"
   ]
  },
  {
   "cell_type": "markdown",
   "id": "5a3eb58c-acd6-468c-b454-b62b32c3a29f",
   "metadata": {},
   "source": [
    "# Exploratory Data Analysis"
   ]
  },
  {
   "cell_type": "markdown",
   "id": "45364d71-4615-41cc-9d08-83810b57e90a",
   "metadata": {},
   "source": [
    "### 1.\tWhat is the distribution of estimated revenue across all campaigns?"
   ]
  },
  {
   "cell_type": "code",
   "execution_count": 13,
   "id": "f7695efb-0287-4f71-8a71-916f3ba68d58",
   "metadata": {},
   "outputs": [],
   "source": [
    "CampaignCombined = performance.merge(campaigns, on = \"Campaign_ID\", how = \"inner\")"
   ]
  },
  {
   "cell_type": "code",
   "execution_count": 14,
   "id": "1bbd12ff-8a1e-47ab-9d8f-58f69222b8ed",
   "metadata": {},
   "outputs": [],
   "source": [
    "Distribution = CampaignCombined.groupby(\"Campaign_Name\")['Estimated Revenue'].sum().reset_index()"
   ]
  },
  {
   "cell_type": "code",
   "execution_count": 15,
   "id": "f8ebbeb4-4559-471b-940a-ecc3e04db9b7",
   "metadata": {},
   "outputs": [
    {
     "data": {
      "image/png": "[encoded data removed]",
      "text/plain": [
       "<Figure size 1400x600 with 1 Axes>"
      ]
     },
     "metadata": {},
     "output_type": "display_data"
    }
   ],
   "source": [
    "mtn.figure(figsize = (14,6))\n",
    "ax = sea.barplot(x = \"Campaign_Name\", y = \"Estimated Revenue\", data = Distribution, color = mycolor)\n",
    "ax.bar_label(ax.containers[0], labels=[f\"{v.get_height()/1_000_000:.1f}M\" for v in ax.containers[0]])\n",
    "mtn.xticks(rotation = 20)\n",
    "mtn.title('Distribution of Estimated Revenue among Campaign Names')\n",
    "mtn.show()"
   ]
  },
  {
   "cell_type": "markdown",
   "id": "d68cdfb2-ed5e-42d1-9702-a8abb39be4d4",
   "metadata": {},
   "source": [
    "### 2.\tWhich products have the highest conversion success rate?"
   ]
  },
  {
   "cell_type": "code",
   "execution_count": 16,
   "id": "31c5f8e8-a33f-4e4e-9f34-f292c07f3e6c",
   "metadata": {},
   "outputs": [],
   "source": [
    "# ---- Product/Conversions\n",
    "\n",
    "ProductConversions = conversions.groupby('ProductID').size().reset_index(name = 'Conversions')\n",
    "\n",
    "# ---- Product/Clicks\n",
    "\n",
    "ProductClicks = performance[performance['Status'] == 'Clicks'].groupby('ProductID').size().reset_index(name = 'Clicks')"
   ]
  },
  {
   "cell_type": "code",
   "execution_count": 17,
   "id": "911d8b71-5ff0-4d11-aaf7-0fe5b5b9a763",
   "metadata": {},
   "outputs": [],
   "source": [
    "FinalTable = ProductConversions.merge(products, on = \"ProductID\", how = \"inner\").merge(ProductClicks, on = \"ProductID\", how = \"inner\")[[\"Product Name\", \"Clicks\", \"Conversions\"]]"
   ]
  },
  {
   "cell_type": "code",
   "execution_count": 18,
   "id": "b500fdc2-1502-4d3c-a6d1-9f26e30e0bd4",
   "metadata": {},
   "outputs": [],
   "source": [
    "FinalTable[\"ConversionRate\"] = round(FinalTable[\"Conversions\"] * 100.0/FinalTable[\"Clicks\"],1)"
   ]
  },
  {
   "cell_type": "code",
   "execution_count": 19,
   "id": "08cedcc3-973b-4209-b27d-6364e174b194",
   "metadata": {},
   "outputs": [
    {
     "data": {
      "text/html": [
       "<div>\n",
       "<style scoped>\n",
       "    .dataframe tbody tr th:only-of-type {\n",
       "        vertical-align: middle;\n",
       "    }\n",
       "\n",
       "    .dataframe tbody tr th {\n",
       "        vertical-align: top;\n",
       "    }\n",
       "\n",
       "    .dataframe thead th {\n",
       "        text-align: right;\n",
       "    }\n",
       "</style>\n",
       "<table border=\"1\" class=\"dataframe\">\n",
       "  <thead>\n",
       "    <tr style=\"text-align: right;\">\n",
       "      <th></th>\n",
       "      <th>Product Name</th>\n",
       "      <th>Clicks</th>\n",
       "      <th>Conversions</th>\n",
       "      <th>ConversionRate</th>\n",
       "    </tr>\n",
       "  </thead>\n",
       "  <tbody>\n",
       "    <tr>\n",
       "      <th>9</th>\n",
       "      <td>Galaxy Soundbar</td>\n",
       "      <td>211</td>\n",
       "      <td>11</td>\n",
       "      <td>5.2</td>\n",
       "    </tr>\n",
       "    <tr>\n",
       "      <th>10</th>\n",
       "      <td>Titan Hard Drive</td>\n",
       "      <td>276</td>\n",
       "      <td>13</td>\n",
       "      <td>4.7</td>\n",
       "    </tr>\n",
       "    <tr>\n",
       "      <th>13</th>\n",
       "      <td>UltraSonic Headphones</td>\n",
       "      <td>257</td>\n",
       "      <td>10</td>\n",
       "      <td>3.9</td>\n",
       "    </tr>\n",
       "    <tr>\n",
       "      <th>11</th>\n",
       "      <td>Quantum Phone X</td>\n",
       "      <td>247</td>\n",
       "      <td>9</td>\n",
       "      <td>3.6</td>\n",
       "    </tr>\n",
       "    <tr>\n",
       "      <th>15</th>\n",
       "      <td>Nova Tablet</td>\n",
       "      <td>235</td>\n",
       "      <td>8</td>\n",
       "      <td>3.4</td>\n",
       "    </tr>\n",
       "  </tbody>\n",
       "</table>\n",
       "</div>"
      ],
      "text/plain": [
       "             Product Name  Clicks  Conversions  ConversionRate\n",
       "9         Galaxy Soundbar     211           11             5.2\n",
       "10       Titan Hard Drive     276           13             4.7\n",
       "13  UltraSonic Headphones     257           10             3.9\n",
       "11        Quantum Phone X     247            9             3.6\n",
       "15            Nova Tablet     235            8             3.4"
      ]
     },
     "execution_count": 19,
     "metadata": {},
     "output_type": "execute_result"
    }
   ],
   "source": [
    "# ---- Top 5 Products by Conversion Rate\n",
    "\n",
    "FinalTable.sort_values(by = \"ConversionRate\", ascending = False).head()"
   ]
  },
  {
   "cell_type": "markdown",
   "id": "35012e38-99ec-4713-89ad-61f38485f3c2",
   "metadata": {},
   "source": [
    "### 3.\tAnalyze the trend of ad spend over time – is it increasing, decreasing, or seasonal?"
   ]
  },
  {
   "cell_type": "code",
   "execution_count": 20,
   "id": "93b26917-534d-40da-a2b4-011fea209562",
   "metadata": {},
   "outputs": [],
   "source": [
    "performance[\"Month_Name\"] = performance[\"Date\"].dt.month_name()\n",
    "performance[\"Sort\"] = performance[\"Date\"].dt.month"
   ]
  },
  {
   "cell_type": "code",
   "execution_count": 21,
   "id": "617badb9-cc49-481e-ad53-f8776f539bc0",
   "metadata": {},
   "outputs": [],
   "source": [
    "TimeLine = round(performance.groupby([\"Month_Name\", \"Sort\"])[\"Ad_spend\"].sum().reset_index().sort_values(by = \"Sort\"),1)"
   ]
  },
  {
   "cell_type": "code",
   "execution_count": 22,
   "id": "9d78af10-5003-422a-b530-602e55a78e8c",
   "metadata": {},
   "outputs": [
    {
     "data": {
      "image/png": "[encoded data removed]",
      "text/plain": [
       "<Figure size 1300x600 with 1 Axes>"
      ]
     },
     "metadata": {},
     "output_type": "display_data"
    }
   ],
   "source": [
    "mtn.figure(figsize = (13,6))\n",
    "mtn.plot(TimeLine[\"Month_Name\"], TimeLine[\"Ad_spend\"], color = mycolor, marker = 'o')\n",
    "mtn.title('Trend Analysis by Ad Spend')\n",
    "mtn.show()"
   ]
  },
  {
   "cell_type": "markdown",
   "id": "2d2059d0-5250-40d6-8d3f-50d0e08c83c2",
   "metadata": {},
   "source": [
    "### 4.\tWhich customer demographic (gender + age group) is driving the most conversion revenue?"
   ]
  },
  {
   "cell_type": "code",
   "execution_count": 23,
   "id": "6973e01d-4c2b-4b0f-9eca-0dc5ddd1cc79",
   "metadata": {},
   "outputs": [],
   "source": [
    "customers[\"Detail\"] = customers[\"Gender\"] + \" | \" + customers[\"Age_Group\"]"
   ]
  },
  {
   "cell_type": "code",
   "execution_count": 24,
   "id": "782aa5e9-02b6-4710-b664-4660d23947bb",
   "metadata": {},
   "outputs": [],
   "source": [
    "customers.dropna(inplace = True)\n",
    "customers.rename(columns = {\"Customer_ID\" : \"CustomerID\"}, inplace = True)"
   ]
  },
  {
   "cell_type": "code",
   "execution_count": 25,
   "id": "b9a9dba0-afff-4f02-a438-739a800dc601",
   "metadata": {},
   "outputs": [],
   "source": [
    "MergedTable = customers.merge(conversions, on = 'CustomerID', how = 'inner')"
   ]
  },
  {
   "cell_type": "code",
   "execution_count": 26,
   "id": "76fa2560-c73f-4ec5-ba12-d9867c78cdd4",
   "metadata": {},
   "outputs": [],
   "source": [
    "TOP5 = MergedTable.groupby('Detail')['Revenue'].sum().reset_index().sort_values('Revenue', ascending = False).head()"
   ]
  },
  {
   "cell_type": "code",
   "execution_count": 27,
   "id": "f174a3b7-5a6f-427a-93d2-2d30b830e00f",
   "metadata": {},
   "outputs": [
    {
     "data": {
      "image/png": "[encoded data removed]",
      "text/plain": [
       "<Figure size 600x500 with 1 Axes>"
      ]
     },
     "metadata": {},
     "output_type": "display_data"
    }
   ],
   "source": [
    "mtn.figure(figsize = (6,5))\n",
    "sea.barplot(y = \"Detail\", x = \"Revenue\", data = TOP5, color = mycolor)\n",
    "mtn.title('Top 5 Demographics by Revenue')\n",
    "mtn.show()"
   ]
  },
  {
   "cell_type": "markdown",
   "id": "b19ae6c9-b5d3-4d54-95aa-68eb504391ca",
   "metadata": {},
   "source": [
    "### 5.\tHow do different campaign objectives (Sales, Lead Generation, Brand Awareness, App Installs) perform in terms of ROI?"
   ]
  },
  {
   "cell_type": "code",
   "execution_count": 28,
   "id": "341acce2-53f4-41a1-82fc-9fd470eab298",
   "metadata": {},
   "outputs": [],
   "source": [
    "Investment = round(performance.groupby(\"Campaign_ID\")[\"Ad_spend\"].sum().reset_index(),1)\n",
    "Return     = conversions.groupby(\"CompaignID\")[\"Revenue\"].sum().reset_index()\n",
    "\n",
    "Return.rename(columns = {\"CompaignID\" : \"Campaign_ID\"}, inplace = True)"
   ]
  },
  {
   "cell_type": "code",
   "execution_count": 29,
   "id": "5475d384-593a-498d-b59c-a0f647a07bb9",
   "metadata": {},
   "outputs": [],
   "source": [
    "AllTable = campaigns.merge(Investment, on = 'Campaign_ID', how = 'inner').merge(Return, on = 'Campaign_ID', how = 'inner')"
   ]
  },
  {
   "cell_type": "code",
   "execution_count": 30,
   "id": "44c19439-82f1-4583-b28a-78498e3648e2",
   "metadata": {},
   "outputs": [],
   "source": [
    "ROITable = AllTable.groupby('Objective')[[\"Ad_spend\", \"Revenue\"]].sum().reset_index()"
   ]
  },
  {
   "cell_type": "code",
   "execution_count": 31,
   "id": "000cc3f9-5e14-4e0a-9374-4ab54068dee2",
   "metadata": {},
   "outputs": [],
   "source": [
    "ROITable['ROI'] = round(ROITable[\"Revenue\"]/ROITable[\"Ad_spend\"],1)"
   ]
  },
  {
   "cell_type": "code",
   "execution_count": 32,
   "id": "4aa555e4-d239-4dfa-9404-34460e43c43d",
   "metadata": {},
   "outputs": [
    {
     "data": {
      "text/html": [
       "<div>\n",
       "<style scoped>\n",
       "    .dataframe tbody tr th:only-of-type {\n",
       "        vertical-align: middle;\n",
       "    }\n",
       "\n",
       "    .dataframe tbody tr th {\n",
       "        vertical-align: top;\n",
       "    }\n",
       "\n",
       "    .dataframe thead th {\n",
       "        text-align: right;\n",
       "    }\n",
       "</style>\n",
       "<table border=\"1\" class=\"dataframe\">\n",
       "  <thead>\n",
       "    <tr style=\"text-align: right;\">\n",
       "      <th></th>\n",
       "      <th>Objective</th>\n",
       "      <th>Ad_spend</th>\n",
       "      <th>Revenue</th>\n",
       "      <th>ROI</th>\n",
       "    </tr>\n",
       "  </thead>\n",
       "  <tbody>\n",
       "    <tr>\n",
       "      <th>0</th>\n",
       "      <td>App Installs</td>\n",
       "      <td>999.2</td>\n",
       "      <td>221249</td>\n",
       "      <td>221.4</td>\n",
       "    </tr>\n",
       "    <tr>\n",
       "      <th>1</th>\n",
       "      <td>Brand Awareness</td>\n",
       "      <td>1915.9</td>\n",
       "      <td>160196</td>\n",
       "      <td>83.6</td>\n",
       "    </tr>\n",
       "    <tr>\n",
       "      <th>2</th>\n",
       "      <td>Lead Generation</td>\n",
       "      <td>394.5</td>\n",
       "      <td>107451</td>\n",
       "      <td>272.4</td>\n",
       "    </tr>\n",
       "    <tr>\n",
       "      <th>3</th>\n",
       "      <td>Sales</td>\n",
       "      <td>2857.6</td>\n",
       "      <td>262266</td>\n",
       "      <td>91.8</td>\n",
       "    </tr>\n",
       "  </tbody>\n",
       "</table>\n",
       "</div>"
      ],
      "text/plain": [
       "         Objective  Ad_spend  Revenue    ROI\n",
       "0     App Installs     999.2   221249  221.4\n",
       "1  Brand Awareness    1915.9   160196   83.6\n",
       "2  Lead Generation     394.5   107451  272.4\n",
       "3            Sales    2857.6   262266   91.8"
      ]
     },
     "execution_count": 32,
     "metadata": {},
     "output_type": "execute_result"
    }
   ],
   "source": [
    "ROITable"
   ]
  },
  {
   "cell_type": "markdown",
   "id": "e591659b-c3b5-46e8-9079-b7ad771a5a4f",
   "metadata": {},
   "source": [
    "### 6.\tWhat is the relationship between ad spend and estimated revenue across campaigns?"
   ]
  },
  {
   "cell_type": "code",
   "execution_count": 33,
   "id": "37b774ef-a762-4c86-974e-1615b0f5a443",
   "metadata": {},
   "outputs": [],
   "source": [
    "conversions.rename(columns = {\"CompaignID\" : \"Campaign_ID\"}, inplace = True)"
   ]
  },
  {
   "cell_type": "code",
   "execution_count": 34,
   "id": "04f7314f-3a6b-424f-9222-cfda82518e47",
   "metadata": {},
   "outputs": [],
   "source": [
    "Revenue = conversions.groupby(\"Campaign_ID\")['Revenue'].sum().reset_index()\n",
    "Ad_spend = round(performance.groupby(\"Campaign_ID\")['Ad_spend'].sum().reset_index(),1)\n",
    "\n",
    "Campaigns = campaigns.merge(Revenue, on = 'Campaign_ID', how = 'inner').merge(Ad_spend,  on = 'Campaign_ID', how = 'inner')\n",
    "\n",
    "Matrix = Campaigns[['Revenue', 'Ad_spend']].corr()"
   ]
  },
  {
   "cell_type": "code",
   "execution_count": 35,
   "id": "ce4e8912-b37d-44e8-a470-952ad276ca19",
   "metadata": {},
   "outputs": [
    {
     "data": {
      "image/png": "[encoded data removed]",
      "text/plain": [
       "<Figure size 400x300 with 2 Axes>"
      ]
     },
     "metadata": {},
     "output_type": "display_data"
    }
   ],
   "source": [
    "mtn.figure(figsize = (4,3))\n",
    "sea.heatmap(Matrix, annot = True, cmap = 'coolwarm')\n",
    "mtn.show()"
   ]
  },
  {
   "cell_type": "markdown",
   "id": "2df86027-1784-42c5-ab06-2b9a6e713723",
   "metadata": {},
   "source": [
    "### 7.\tWhich regions show the highest conversion rates?"
   ]
  },
  {
   "cell_type": "code",
   "execution_count": 36,
   "id": "08511a42-35f5-4cee-9d28-e7d70792f1b9",
   "metadata": {},
   "outputs": [],
   "source": [
    "Clicks = performance[performance['Status'] == 'Clicks'].groupby('Customer_ID').size().reset_index(name = 'Clicks')\n",
    "conversions.rename(columns = {'CustomerID' : 'Customer_ID'}, inplace = True)\n",
    "\n",
    "Conversions = conversions.groupby('Customer_ID').size().reset_index(name = 'Conversions')\n",
    "\n",
    "customers.rename(columns = {\"CustomerID\" : \"Customer_ID\"}, inplace = True)"
   ]
  },
  {
   "cell_type": "code",
   "execution_count": 37,
   "id": "f3d85196-d435-4de3-8b16-bc3a6e91f95d",
   "metadata": {},
   "outputs": [],
   "source": [
    "ConversionRate = customers.merge(Clicks, on = 'Customer_ID', how = 'inner').merge(Conversions, on = 'Customer_ID', how = 'inner')"
   ]
  },
  {
   "cell_type": "code",
   "execution_count": 38,
   "id": "3b3a515d-31cc-4c41-94aa-a29b9e265517",
   "metadata": {},
   "outputs": [],
   "source": [
    "RegionTable = ConversionRate.groupby('Region')[['Clicks', 'Conversions']].sum().reset_index()"
   ]
  },
  {
   "cell_type": "code",
   "execution_count": 39,
   "id": "06f86e53-aba4-4473-8046-fb8494fa2728",
   "metadata": {},
   "outputs": [],
   "source": [
    "RegionTable['ConversionRate'] = round(RegionTable['Conversions'] * 100.0 /RegionTable['Clicks'],1)"
   ]
  },
  {
   "cell_type": "code",
   "execution_count": 40,
   "id": "a5e89b53-8985-4d5b-bf80-6b467efa943c",
   "metadata": {},
   "outputs": [
    {
     "data": {
      "text/html": [
       "<div>\n",
       "<style scoped>\n",
       "    .dataframe tbody tr th:only-of-type {\n",
       "        vertical-align: middle;\n",
       "    }\n",
       "\n",
       "    .dataframe tbody tr th {\n",
       "        vertical-align: top;\n",
       "    }\n",
       "\n",
       "    .dataframe thead th {\n",
       "        text-align: right;\n",
       "    }\n",
       "</style>\n",
       "<table border=\"1\" class=\"dataframe\">\n",
       "  <thead>\n",
       "    <tr style=\"text-align: right;\">\n",
       "      <th></th>\n",
       "      <th>Region</th>\n",
       "      <th>Clicks</th>\n",
       "      <th>Conversions</th>\n",
       "      <th>ConversionRate</th>\n",
       "    </tr>\n",
       "  </thead>\n",
       "  <tbody>\n",
       "    <tr>\n",
       "      <th>0</th>\n",
       "      <td>East</td>\n",
       "      <td>530</td>\n",
       "      <td>50</td>\n",
       "      <td>9.4</td>\n",
       "    </tr>\n",
       "    <tr>\n",
       "      <th>1</th>\n",
       "      <td>North</td>\n",
       "      <td>479</td>\n",
       "      <td>22</td>\n",
       "      <td>4.6</td>\n",
       "    </tr>\n",
       "    <tr>\n",
       "      <th>2</th>\n",
       "      <td>South</td>\n",
       "      <td>504</td>\n",
       "      <td>36</td>\n",
       "      <td>7.1</td>\n",
       "    </tr>\n",
       "    <tr>\n",
       "      <th>3</th>\n",
       "      <td>West</td>\n",
       "      <td>455</td>\n",
       "      <td>26</td>\n",
       "      <td>5.7</td>\n",
       "    </tr>\n",
       "  </tbody>\n",
       "</table>\n",
       "</div>"
      ],
      "text/plain": [
       "  Region  Clicks  Conversions  ConversionRate\n",
       "0   East     530           50             9.4\n",
       "1  North     479           22             4.6\n",
       "2  South     504           36             7.1\n",
       "3   West     455           26             5.7"
      ]
     },
     "execution_count": 40,
     "metadata": {},
     "output_type": "execute_result"
    }
   ],
   "source": [
    "RegionTable"
   ]
  },
  {
   "cell_type": "markdown",
   "id": "0ecb31f6-635a-4de6-970d-e5a069184191",
   "metadata": {},
   "source": [
    "### 8.\tAnalyze the distribution of revenue by Product Name and rank them from best to Worst!"
   ]
  },
  {
   "cell_type": "code",
   "execution_count": 41,
   "id": "8f9152c8-a47e-469d-9485-8225eb29112e",
   "metadata": {},
   "outputs": [],
   "source": [
    "Product_Revenue = products.merge(conversions, on = 'ProductID', how = 'inner').groupby('Product Name')['Revenue'].sum().reset_index()"
   ]
  },
  {
   "cell_type": "code",
   "execution_count": 42,
   "id": "01f16063-b264-4ed8-88a0-f4c8f29651ba",
   "metadata": {},
   "outputs": [],
   "source": [
    "Product_Revenue['Rank'] = Product_Revenue['Revenue'].rank(method = 'dense', ascending = False)"
   ]
  },
  {
   "cell_type": "code",
   "execution_count": 43,
   "id": "da9f6b45-0166-4339-bad2-99b3c5d59279",
   "metadata": {},
   "outputs": [
    {
     "data": {
      "text/html": [
       "<div>\n",
       "<style scoped>\n",
       "    .dataframe tbody tr th:only-of-type {\n",
       "        vertical-align: middle;\n",
       "    }\n",
       "\n",
       "    .dataframe tbody tr th {\n",
       "        vertical-align: top;\n",
       "    }\n",
       "\n",
       "    .dataframe thead th {\n",
       "        text-align: right;\n",
       "    }\n",
       "</style>\n",
       "<table border=\"1\" class=\"dataframe\">\n",
       "  <thead>\n",
       "    <tr style=\"text-align: right;\">\n",
       "      <th></th>\n",
       "      <th>Product Name</th>\n",
       "      <th>Revenue</th>\n",
       "      <th>Rank</th>\n",
       "    </tr>\n",
       "  </thead>\n",
       "  <tbody>\n",
       "    <tr>\n",
       "      <th>15</th>\n",
       "      <td>Titan Hard Drive</td>\n",
       "      <td>69988</td>\n",
       "      <td>1.0</td>\n",
       "    </tr>\n",
       "    <tr>\n",
       "      <th>3</th>\n",
       "      <td>Echo Smart Home Hub</td>\n",
       "      <td>67618</td>\n",
       "      <td>2.0</td>\n",
       "    </tr>\n",
       "    <tr>\n",
       "      <th>5</th>\n",
       "      <td>Galaxy Soundbar</td>\n",
       "      <td>66326</td>\n",
       "      <td>3.0</td>\n",
       "    </tr>\n",
       "    <tr>\n",
       "      <th>8</th>\n",
       "      <td>Omni VR Headset</td>\n",
       "      <td>58514</td>\n",
       "      <td>4.0</td>\n",
       "    </tr>\n",
       "    <tr>\n",
       "      <th>12</th>\n",
       "      <td>Solar Powerbank</td>\n",
       "      <td>55085</td>\n",
       "      <td>5.0</td>\n",
       "    </tr>\n",
       "    <tr>\n",
       "      <th>16</th>\n",
       "      <td>UltraSonic Headphones</td>\n",
       "      <td>48581</td>\n",
       "      <td>6.0</td>\n",
       "    </tr>\n",
       "    <tr>\n",
       "      <th>11</th>\n",
       "      <td>Quantum Phone X</td>\n",
       "      <td>47667</td>\n",
       "      <td>7.0</td>\n",
       "    </tr>\n",
       "    <tr>\n",
       "      <th>7</th>\n",
       "      <td>Nova Tablet</td>\n",
       "      <td>47355</td>\n",
       "      <td>8.0</td>\n",
       "    </tr>\n",
       "    <tr>\n",
       "      <th>4</th>\n",
       "      <td>Flex Fitness Band</td>\n",
       "      <td>46475</td>\n",
       "      <td>9.0</td>\n",
       "    </tr>\n",
       "    <tr>\n",
       "      <th>6</th>\n",
       "      <td>Nova Coffee Maker</td>\n",
       "      <td>39059</td>\n",
       "      <td>10.0</td>\n",
       "    </tr>\n",
       "    <tr>\n",
       "      <th>19</th>\n",
       "      <td>Zen Digital Fridge</td>\n",
       "      <td>28181</td>\n",
       "      <td>11.0</td>\n",
       "    </tr>\n",
       "    <tr>\n",
       "      <th>2</th>\n",
       "      <td>AlphaSmart Watch</td>\n",
       "      <td>27316</td>\n",
       "      <td>12.0</td>\n",
       "    </tr>\n",
       "    <tr>\n",
       "      <th>0</th>\n",
       "      <td>Aero Air Purifier</td>\n",
       "      <td>26448</td>\n",
       "      <td>13.0</td>\n",
       "    </tr>\n",
       "    <tr>\n",
       "      <th>10</th>\n",
       "      <td>Prism LED TV</td>\n",
       "      <td>26244</td>\n",
       "      <td>14.0</td>\n",
       "    </tr>\n",
       "    <tr>\n",
       "      <th>17</th>\n",
       "      <td>Venture Smart Thermostat</td>\n",
       "      <td>25536</td>\n",
       "      <td>15.0</td>\n",
       "    </tr>\n",
       "    <tr>\n",
       "      <th>14</th>\n",
       "      <td>Stream Wireless Router</td>\n",
       "      <td>18002</td>\n",
       "      <td>16.0</td>\n",
       "    </tr>\n",
       "    <tr>\n",
       "      <th>1</th>\n",
       "      <td>Aero Gaming Laptop</td>\n",
       "      <td>16570</td>\n",
       "      <td>17.0</td>\n",
       "    </tr>\n",
       "    <tr>\n",
       "      <th>9</th>\n",
       "      <td>PixelPro Camera</td>\n",
       "      <td>16062</td>\n",
       "      <td>18.0</td>\n",
       "    </tr>\n",
       "    <tr>\n",
       "      <th>13</th>\n",
       "      <td>Stellar Drone Pro</td>\n",
       "      <td>15541</td>\n",
       "      <td>19.0</td>\n",
       "    </tr>\n",
       "    <tr>\n",
       "      <th>18</th>\n",
       "      <td>Viva Bluetooth Speaker</td>\n",
       "      <td>4594</td>\n",
       "      <td>20.0</td>\n",
       "    </tr>\n",
       "  </tbody>\n",
       "</table>\n",
       "</div>"
      ],
      "text/plain": [
       "                Product Name  Revenue  Rank\n",
       "15          Titan Hard Drive    69988   1.0\n",
       "3        Echo Smart Home Hub    67618   2.0\n",
       "5            Galaxy Soundbar    66326   3.0\n",
       "8            Omni VR Headset    58514   4.0\n",
       "12           Solar Powerbank    55085   5.0\n",
       "16     UltraSonic Headphones    48581   6.0\n",
       "11           Quantum Phone X    47667   7.0\n",
       "7                Nova Tablet    47355   8.0\n",
       "4          Flex Fitness Band    46475   9.0\n",
       "6          Nova Coffee Maker    39059  10.0\n",
       "19        Zen Digital Fridge    28181  11.0\n",
       "2           AlphaSmart Watch    27316  12.0\n",
       "0          Aero Air Purifier    26448  13.0\n",
       "10              Prism LED TV    26244  14.0\n",
       "17  Venture Smart Thermostat    25536  15.0\n",
       "14    Stream Wireless Router    18002  16.0\n",
       "1         Aero Gaming Laptop    16570  17.0\n",
       "9            PixelPro Camera    16062  18.0\n",
       "13         Stellar Drone Pro    15541  19.0\n",
       "18    Viva Bluetooth Speaker     4594  20.0"
      ]
     },
     "execution_count": 43,
     "metadata": {},
     "output_type": "execute_result"
    }
   ],
   "source": [
    "Product_Revenue.sort_values(by = 'Rank')"
   ]
  },
  {
   "cell_type": "markdown",
   "id": "4baef44a-0507-4324-862d-9b17f943ef01",
   "metadata": {},
   "source": [
    "### 9.\tDoes campaign duration impact conversion revenue generated?"
   ]
  },
  {
   "cell_type": "code",
   "execution_count": 44,
   "id": "66da5bd8-0494-4ca0-af93-3d9900a46576",
   "metadata": {},
   "outputs": [],
   "source": [
    "campaigns['Start_Date'] = pd.to_datetime(campaigns['Start_Date'], format = 'mixed')\n",
    "campaigns['End_Date'] = pd.to_datetime(campaigns['End_Date'], format = 'mixed')"
   ]
  },
  {
   "cell_type": "code",
   "execution_count": 45,
   "id": "7d14f43c-c6cd-469d-aec6-a3b8a00d4360",
   "metadata": {},
   "outputs": [],
   "source": [
    "campaigns['Days']  = abs((campaigns['Start_Date'] - campaigns['End_Date']).dt.days)"
   ]
  },
  {
   "cell_type": "code",
   "execution_count": 46,
   "id": "0143b7ec-4377-4ce0-88d1-d4485fc80e30",
   "metadata": {},
   "outputs": [],
   "source": [
    "Daystable = campaigns[['Campaign_ID', 'Days', 'Campaign_Name']].merge(conversions, on = 'Campaign_ID', how = 'inner')"
   ]
  },
  {
   "cell_type": "code",
   "execution_count": 47,
   "id": "18940bca-c079-472a-b580-ee07c6e8cf90",
   "metadata": {},
   "outputs": [],
   "source": [
    "FinalTable = Daystable.groupby('Campaign_Name')[['Days', 'Revenue']].sum().reset_index()"
   ]
  },
  {
   "cell_type": "code",
   "execution_count": 48,
   "id": "9124f0c6-c920-441e-aa0d-a368ece71f02",
   "metadata": {},
   "outputs": [],
   "source": [
    "matrix = FinalTable[['Days', 'Revenue']].corr()"
   ]
  },
  {
   "cell_type": "code",
   "execution_count": 49,
   "id": "214f1777-611a-44c5-9d8c-3e42c0eedf38",
   "metadata": {},
   "outputs": [
    {
     "name": "stdout",
     "output_type": "stream",
     "text": [
      "--------------------------------------------------\n"
     ]
    },
    {
     "data": {
      "image/png": "[encoded data removed]",
      "text/plain": [
       "<Figure size 400x400 with 2 Axes>"
      ]
     },
     "metadata": {},
     "output_type": "display_data"
    }
   ],
   "source": [
    "mtn.figure(figsize = (4,4))\n",
    "mtn.title('Relation between Campaigns Days and Revenue Generated')\n",
    "print('-'*50)\n",
    "sea.heatmap(matrix, annot = True, cmap = 'coolwarm')\n",
    "mtn.show()"
   ]
  },
  {
   "cell_type": "markdown",
   "id": "901b07c0-5698-4bad-bbe4-64635f82e285",
   "metadata": {},
   "source": [
    "### 10.\tWhich campaigns had high impressions but low conversions (inefficient spend)?"
   ]
  },
  {
   "cell_type": "code",
   "execution_count": 50,
   "id": "473f45f0-bfa3-464b-9bce-a9b64a9ef94c",
   "metadata": {},
   "outputs": [],
   "source": [
    "# ----- Impressions Table\n",
    "\n",
    "impressions = performance[performance['Status'] == 'Impressions'].groupby('Campaign_ID').size().reset_index(name = 'Impressions')\n",
    "\n",
    "# ----- Conversions Table\n",
    "\n",
    "Conversions = conversions.groupby('Campaign_ID').size().reset_index(name = 'Conversions')\n",
    "\n",
    "# ----- Combined Table\n",
    "\n",
    "Combined = campaigns[['Campaign_ID', 'Campaign_Name']].merge(impressions, on = 'Campaign_ID', how = 'inner').merge(Conversions, on = 'Campaign_ID', how = 'inner')\n",
    "\n",
    "Combined['ImpRank'] = round(Combined['Impressions'].rank(method = 'dense', ascending  = False),0)\n",
    "Combined['ConRank'] = Combined['Conversions'].rank(method = 'dense', ascending = True)"
   ]
  },
  {
   "cell_type": "code",
   "execution_count": 51,
   "id": "1bc83100-f9e8-4d81-a3bd-d56009aaa0f5",
   "metadata": {},
   "outputs": [
    {
     "name": "stdout",
     "output_type": "stream",
     "text": [
      "Campaign \"New Arrival: Smart Gadgets\" had high impressions but low conversions\n"
     ]
    }
   ],
   "source": [
    "name = Combined[Combined['ImpRank'] == 1.0]['Campaign_Name'].iloc[0]\n",
    "print(f'Campaign \"{name}\" had high impressions but low conversions')"
   ]
  },
  {
   "cell_type": "markdown",
   "id": "45e09242-b822-49de-906e-b1cdeaea04f6",
   "metadata": {},
   "source": [
    "### 11.\tDo product colors show any significant differences in conversion rates?"
   ]
  },
  {
   "cell_type": "code",
   "execution_count": 52,
   "id": "6743440e-10e6-4925-ad0c-534a343932fb",
   "metadata": {},
   "outputs": [],
   "source": [
    "# ProductConversions\n",
    "# ProductClicks\n",
    "ColorTable = products[['ProductID', 'Color']].merge(ProductClicks, on = 'ProductID', how = 'inner').merge(ProductConversions, on = 'ProductID', how = 'inner')"
   ]
  },
  {
   "cell_type": "code",
   "execution_count": 53,
   "id": "f30599ef-ece9-47d3-b646-2dd40ab7717e",
   "metadata": {},
   "outputs": [],
   "source": [
    "Conversion = ColorTable.groupby('Color')[['Clicks', 'Conversions']].sum().reset_index()\n",
    "Conversion['ConversionRate'] = round(ColorTable['Conversions'] * 100.0/ColorTable['Clicks'],1)"
   ]
  },
  {
   "cell_type": "code",
   "execution_count": 54,
   "id": "abd62c89-46ac-4f60-82c6-520d9d01e9f2",
   "metadata": {},
   "outputs": [
    {
     "data": {
      "text/html": [
       "<div>\n",
       "<style scoped>\n",
       "    .dataframe tbody tr th:only-of-type {\n",
       "        vertical-align: middle;\n",
       "    }\n",
       "\n",
       "    .dataframe tbody tr th {\n",
       "        vertical-align: top;\n",
       "    }\n",
       "\n",
       "    .dataframe thead th {\n",
       "        text-align: right;\n",
       "    }\n",
       "</style>\n",
       "<table border=\"1\" class=\"dataframe\">\n",
       "  <thead>\n",
       "    <tr style=\"text-align: right;\">\n",
       "      <th></th>\n",
       "      <th>Color</th>\n",
       "      <th>Clicks</th>\n",
       "      <th>Conversions</th>\n",
       "      <th>ConversionRate</th>\n",
       "    </tr>\n",
       "  </thead>\n",
       "  <tbody>\n",
       "    <tr>\n",
       "      <th>0</th>\n",
       "      <td>Black</td>\n",
       "      <td>989</td>\n",
       "      <td>32</td>\n",
       "      <td>2.3</td>\n",
       "    </tr>\n",
       "    <tr>\n",
       "      <th>1</th>\n",
       "      <td>Blue</td>\n",
       "      <td>875</td>\n",
       "      <td>29</td>\n",
       "      <td>3.6</td>\n",
       "    </tr>\n",
       "    <tr>\n",
       "      <th>2</th>\n",
       "      <td>Navy</td>\n",
       "      <td>1073</td>\n",
       "      <td>24</td>\n",
       "      <td>3.9</td>\n",
       "    </tr>\n",
       "    <tr>\n",
       "      <th>3</th>\n",
       "      <td>Red</td>\n",
       "      <td>2063</td>\n",
       "      <td>65</td>\n",
       "      <td>2.9</td>\n",
       "    </tr>\n",
       "  </tbody>\n",
       "</table>\n",
       "</div>"
      ],
      "text/plain": [
       "   Color  Clicks  Conversions  ConversionRate\n",
       "0  Black     989           32             2.3\n",
       "1   Blue     875           29             3.6\n",
       "2   Navy    1073           24             3.9\n",
       "3    Red    2063           65             2.9"
      ]
     },
     "execution_count": 54,
     "metadata": {},
     "output_type": "execute_result"
    }
   ],
   "source": [
    "Conversion"
   ]
  },
  {
   "cell_type": "markdown",
   "id": "0ea32eb7-8dee-44ad-8ee5-682d2e1e758c",
   "metadata": {},
   "source": [
    "### 12.\tIdentify the most valuable customer segments (Region + Age Group + Gender) in terms of lifetime revenue."
   ]
  },
  {
   "cell_type": "code",
   "execution_count": 55,
   "id": "cdffacb6-559c-453d-bb94-a13f1c6e0a75",
   "metadata": {},
   "outputs": [],
   "source": [
    "customers['Segment'] = customers['Region'] + ' | ' + customers['Detail']"
   ]
  },
  {
   "cell_type": "code",
   "execution_count": 56,
   "id": "8849083a-f383-4b9d-969a-9c645fd7f1c7",
   "metadata": {},
   "outputs": [],
   "source": [
    "RevenueTable = customers[['Customer_ID', 'Segment']].merge(conversions, on = 'Customer_ID', how = 'inner')"
   ]
  },
  {
   "cell_type": "code",
   "execution_count": 57,
   "id": "cc4a3c6a-f80b-465a-9794-537fe0553962",
   "metadata": {},
   "outputs": [
    {
     "data": {
      "text/html": [
       "<div>\n",
       "<style scoped>\n",
       "    .dataframe tbody tr th:only-of-type {\n",
       "        vertical-align: middle;\n",
       "    }\n",
       "\n",
       "    .dataframe tbody tr th {\n",
       "        vertical-align: top;\n",
       "    }\n",
       "\n",
       "    .dataframe thead th {\n",
       "        text-align: right;\n",
       "    }\n",
       "</style>\n",
       "<table border=\"1\" class=\"dataframe\">\n",
       "  <thead>\n",
       "    <tr style=\"text-align: right;\">\n",
       "      <th></th>\n",
       "      <th>Segment</th>\n",
       "      <th>Revenue</th>\n",
       "    </tr>\n",
       "  </thead>\n",
       "  <tbody>\n",
       "    <tr>\n",
       "      <th>20</th>\n",
       "      <td>North | Other | 18-24</td>\n",
       "      <td>50711</td>\n",
       "    </tr>\n",
       "    <tr>\n",
       "      <th>30</th>\n",
       "      <td>South | Male | 45-54</td>\n",
       "      <td>34900</td>\n",
       "    </tr>\n",
       "    <tr>\n",
       "      <th>22</th>\n",
       "      <td>North | Other | 45-54</td>\n",
       "      <td>32654</td>\n",
       "    </tr>\n",
       "    <tr>\n",
       "      <th>4</th>\n",
       "      <td>East | Male | 18-24</td>\n",
       "      <td>32323</td>\n",
       "    </tr>\n",
       "    <tr>\n",
       "      <th>11</th>\n",
       "      <td>East | Other | 55+</td>\n",
       "      <td>31588</td>\n",
       "    </tr>\n",
       "    <tr>\n",
       "      <th>6</th>\n",
       "      <td>East | Male | 55+</td>\n",
       "      <td>29057</td>\n",
       "    </tr>\n",
       "  </tbody>\n",
       "</table>\n",
       "</div>"
      ],
      "text/plain": [
       "                  Segment  Revenue\n",
       "20  North | Other | 18-24    50711\n",
       "30   South | Male | 45-54    34900\n",
       "22  North | Other | 45-54    32654\n",
       "4     East | Male | 18-24    32323\n",
       "11     East | Other | 55+    31588\n",
       "6       East | Male | 55+    29057"
      ]
     },
     "execution_count": 57,
     "metadata": {},
     "output_type": "execute_result"
    }
   ],
   "source": [
    "RevenueTable.groupby('Segment')['Revenue'].sum().reset_index().sort_values(by = 'Revenue', ascending = False).head(6)"
   ]
  },
  {
   "cell_type": "markdown",
   "id": "6328bd9d-b62b-490c-9ffa-b7c770457f30",
   "metadata": {},
   "source": [
    "### 13.\tHow does estimated revenue compare to actual conversion revenue across campaigns?"
   ]
  },
  {
   "cell_type": "code",
   "execution_count": 58,
   "id": "ace06f02-81a0-425c-bb13-5f56c19cb418",
   "metadata": {},
   "outputs": [
    {
     "data": {
      "text/html": [
       "<div>\n",
       "<style scoped>\n",
       "    .dataframe tbody tr th:only-of-type {\n",
       "        vertical-align: middle;\n",
       "    }\n",
       "\n",
       "    .dataframe tbody tr th {\n",
       "        vertical-align: top;\n",
       "    }\n",
       "\n",
       "    .dataframe thead th {\n",
       "        text-align: right;\n",
       "    }\n",
       "</style>\n",
       "<table border=\"1\" class=\"dataframe\">\n",
       "  <thead>\n",
       "    <tr style=\"text-align: right;\">\n",
       "      <th></th>\n",
       "      <th>Campaign_ID</th>\n",
       "      <th>Campaign_Name</th>\n",
       "      <th>Estimated Revenue</th>\n",
       "      <th>Revenue</th>\n",
       "    </tr>\n",
       "  </thead>\n",
       "  <tbody>\n",
       "    <tr>\n",
       "      <th>0</th>\n",
       "      <td>1</td>\n",
       "      <td>Summer Splash Sale</td>\n",
       "      <td>17354636</td>\n",
       "      <td>106010</td>\n",
       "    </tr>\n",
       "    <tr>\n",
       "      <th>1</th>\n",
       "      <td>2</td>\n",
       "      <td>New Arrival: Smart Gadgets</td>\n",
       "      <td>17095738</td>\n",
       "      <td>30052</td>\n",
       "    </tr>\n",
       "    <tr>\n",
       "      <th>2</th>\n",
       "      <td>3</td>\n",
       "      <td>Year-End Clearance</td>\n",
       "      <td>17263263</td>\n",
       "      <td>43461</td>\n",
       "    </tr>\n",
       "    <tr>\n",
       "      <th>3</th>\n",
       "      <td>4</td>\n",
       "      <td>Flash Deal Friday</td>\n",
       "      <td>4864580</td>\n",
       "      <td>50001</td>\n",
       "    </tr>\n",
       "    <tr>\n",
       "      <th>4</th>\n",
       "      <td>5</td>\n",
       "      <td>Refer &amp; Earn Campaign</td>\n",
       "      <td>5020225</td>\n",
       "      <td>107451</td>\n",
       "    </tr>\n",
       "    <tr>\n",
       "      <th>5</th>\n",
       "      <td>6</td>\n",
       "      <td>Limited Time Tech Promo</td>\n",
       "      <td>5112295</td>\n",
       "      <td>51658</td>\n",
       "    </tr>\n",
       "    <tr>\n",
       "      <th>6</th>\n",
       "      <td>7</td>\n",
       "      <td>Winter Fitness Kickstart</td>\n",
       "      <td>5022475</td>\n",
       "      <td>112795</td>\n",
       "    </tr>\n",
       "    <tr>\n",
       "      <th>7</th>\n",
       "      <td>8</td>\n",
       "      <td>Back to School Essentials</td>\n",
       "      <td>4774332</td>\n",
       "      <td>70558</td>\n",
       "    </tr>\n",
       "    <tr>\n",
       "      <th>8</th>\n",
       "      <td>9</td>\n",
       "      <td>Black Friday Early Access</td>\n",
       "      <td>4824772</td>\n",
       "      <td>78486</td>\n",
       "    </tr>\n",
       "    <tr>\n",
       "      <th>9</th>\n",
       "      <td>10</td>\n",
       "      <td>Buy 1 Get 1 ?? Festive Bonanza</td>\n",
       "      <td>5027604</td>\n",
       "      <td>100690</td>\n",
       "    </tr>\n",
       "  </tbody>\n",
       "</table>\n",
       "</div>"
      ],
      "text/plain": [
       "   Campaign_ID                   Campaign_Name  Estimated Revenue  Revenue\n",
       "0            1              Summer Splash Sale           17354636   106010\n",
       "1            2      New Arrival: Smart Gadgets           17095738    30052\n",
       "2            3              Year-End Clearance           17263263    43461\n",
       "3            4               Flash Deal Friday            4864580    50001\n",
       "4            5           Refer & Earn Campaign            5020225   107451\n",
       "5            6         Limited Time Tech Promo            5112295    51658\n",
       "6            7        Winter Fitness Kickstart            5022475   112795\n",
       "7            8       Back to School Essentials            4774332    70558\n",
       "8            9       Black Friday Early Access            4824772    78486\n",
       "9           10  Buy 1 Get 1 ?? Festive Bonanza            5027604   100690"
      ]
     },
     "execution_count": 58,
     "metadata": {},
     "output_type": "execute_result"
    }
   ],
   "source": [
    "# ---- Estimated Revenue\n",
    "\n",
    "EstimatedRevenue = performance.groupby('Campaign_ID')['Estimated Revenue'].sum().reset_index()\n",
    "\n",
    "# ----- Actual Revenue\n",
    "\n",
    "ActualRevenue = conversions.groupby('Campaign_ID')['Revenue'].sum().reset_index()\n",
    "\n",
    "campaigns[['Campaign_ID', 'Campaign_Name']].merge(EstimatedRevenue, on = 'Campaign_ID', how = 'inner').merge(ActualRevenue, on = 'Campaign_ID', how = 'inner')"
   ]
  }
 ],
 "metadata": {
  "kernelspec": {
   "display_name": "Python 3 (ipykernel)",
   "language": "python",
   "name": "python3"
  },
  "language_info": {
   "codemirror_mode": {
    "name": "ipython",
    "version": 3
   },
   "file_extension": ".py",
   "mimetype": "text/x-python",
   "name": "python",
   "nbconvert_exporter": "python",
   "pygments_lexer": "ipython3",
   "version": "3.13.5"
  }
 },
 "nbformat": 4,
 "nbformat_minor": 5
}
